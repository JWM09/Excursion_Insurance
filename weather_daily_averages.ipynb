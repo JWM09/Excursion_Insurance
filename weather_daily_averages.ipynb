{
 "cells": [
  {
   "cell_type": "code",
   "execution_count": 1,
   "id": "3b07511a-50a3-4592-9eb6-c59c4c8a9d78",
   "metadata": {},
   "outputs": [],
   "source": [
    "# Overall purpose of this program is to read the Honolulu Weather CSV file to detrmine daily averages"
   ]
  },
  {
   "cell_type": "code",
   "execution_count": 2,
   "id": "498ed1e3-2816-40b9-abeb-f302fc7a90ad",
   "metadata": {},
   "outputs": [],
   "source": [
    "# Import necessary libraries\n",
    "import pandas as pd\n",
    "import numpy as np\n",
    "from pathlib import Path\n",
    "%matplotlib inline"
   ]
  },
  {
   "cell_type": "code",
   "execution_count": 4,
   "id": "9b0c984b-e300-4b01-a936-034ecd2a4b05",
   "metadata": {},
   "outputs": [],
   "source": [
    "# Import CSV file\n",
    "raw_weather_data = pd.read_csv('./Weather_Data/Openweather_30_year_Honolulu.csv')"
   ]
  },
  {
   "cell_type": "code",
   "execution_count": null,
   "id": "87229a99-0c58-442e-8739-a64738171b0e",
   "metadata": {},
   "outputs": [],
   "source": [
    "jan_15_data = "
   ]
  }
 ],
 "metadata": {
  "kernelspec": {
   "display_name": "dev",
   "language": "python",
   "name": "dev"
  },
  "language_info": {
   "codemirror_mode": {
    "name": "ipython",
    "version": 3
   },
   "file_extension": ".py",
   "mimetype": "text/x-python",
   "name": "python",
   "nbconvert_exporter": "python",
   "pygments_lexer": "ipython3",
   "version": "3.9.7"
  }
 },
 "nbformat": 4,
 "nbformat_minor": 5
}
